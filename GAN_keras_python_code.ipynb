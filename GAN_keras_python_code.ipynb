{
  "nbformat": 4,
  "nbformat_minor": 0,
  "metadata": {
    "colab": {
      "name": "GAN_keras_python_code.ipynb",
      "version": "0.3.2",
      "provenance": [],
      "collapsed_sections": [],
      "include_colab_link": true
    },
    "language_info": {
      "codemirror_mode": {
        "name": "ipython",
        "version": 3
      },
      "file_extension": ".py",
      "mimetype": "text/x-python",
      "name": "python",
      "nbconvert_exporter": "python",
      "pygments_lexer": "ipython3",
      "version": "3.6.7"
    },
    "kernelspec": {
      "name": "python3",
      "display_name": "Python 3"
    },
    "accelerator": "GPU"
  },
  "cells": [
    {
      "cell_type": "markdown",
      "metadata": {
        "id": "view-in-github",
        "colab_type": "text"
      },
      "source": [
        "<a href=\"https://colab.research.google.com/github/anshupandey/Generative-Adversial-Networks/blob/master/GAN_keras_python_code.ipynb\" target=\"_parent\"><img src=\"https://colab.research.google.com/assets/colab-badge.svg\" alt=\"Open In Colab\"/></a>"
      ]
    },
    {
      "metadata": {
        "id": "dgnwUGk1Dpzk",
        "colab_type": "code",
        "colab": {}
      },
      "cell_type": "code",
      "source": [
        "from keras import models\n",
        "from keras import layers\n",
        "from keras.optimizers import SGD\n",
        "from keras.datasets import mnist\n",
        "import numpy\n",
        "from PIL import Image\n",
        "import matplotlib.pyplot as plt\n",
        "import cv2"
      ],
      "execution_count": 0,
      "outputs": []
    },
    {
      "metadata": {
        "id": "HMQNpsrYDpzw",
        "colab_type": "text"
      },
      "cell_type": "markdown",
      "source": [
        "# Generator Model"
      ]
    },
    {
      "metadata": {
        "id": "icJoeLr6Dpzy",
        "colab_type": "code",
        "outputId": "e5705f8c-ccef-4815-967f-94b6b1b05180",
        "colab": {
          "base_uri": "https://localhost:8080/",
          "height": 71
        }
      },
      "cell_type": "code",
      "source": [
        "model1 = models.Sequential()\n",
        "model1.add(layers.Dense(input_dim=100,output_dim=1024))\n",
        "model1.add(layers.Activation('tanh'))\n",
        "model1.add(layers.Dense(128*7*7))\n",
        "model1.add(layers.Activation('tanh'))\n",
        "model1.add(layers.BatchNormalization())\n",
        "model1.add(layers.Activation(\"tanh\"))\n",
        "model1.add(layers.Reshape((7,7,128),input_shape=(128*7*7,)))\n",
        "model1.add(layers.UpSampling2D(size=(2,2)))\n",
        "model1.add(layers.Conv2D(64,(5,5),padding='same'))\n",
        "model1.add(layers.Activation('tanh'))\n",
        "model1.add(layers.UpSampling2D(size=(2,2)))\n",
        "model1.add(layers.Activation('tanh'))\n",
        "model1.add(layers.Conv2D(1,(5,5),padding='same'))\n",
        "model1.add(layers.Activation('tanh'))"
      ],
      "execution_count": 11,
      "outputs": [
        {
          "output_type": "stream",
          "text": [
            "/usr/local/lib/python3.6/dist-packages/ipykernel_launcher.py:2: UserWarning: Update your `Dense` call to the Keras 2 API: `Dense(input_dim=100, units=1024)`\n",
            "  \n"
          ],
          "name": "stderr"
        }
      ]
    },
    {
      "metadata": {
        "id": "188ufPw8Dp0H",
        "colab_type": "text"
      },
      "cell_type": "markdown",
      "source": [
        "# Dsicriminator"
      ]
    },
    {
      "metadata": {
        "id": "zgLMZRuJDp0J",
        "colab_type": "code",
        "colab": {}
      },
      "cell_type": "code",
      "source": [
        "model2 = models.Sequential()\n",
        "model2.add(layers.Conv2D(64,(5,5),padding='same',input_shape=(28,28,1)))\n",
        "model2.add(layers.Activation('tanh'))\n",
        "model2.add(layers.MaxPooling2D(pool_size=(2,2)))\n",
        "model2.add(layers.Conv2D(128,(5,5)))\n",
        "model2.add(layers.Activation('tanh'))\n",
        "model2.add(layers.MaxPooling2D(pool_size=(2,2)))\n",
        "model2.add(layers.Flatten())\n",
        "model2.add(layers.Dense(1024))\n",
        "model2.add(layers.Activation('tanh'))\n",
        "model2.add(layers.Dense(1))\n",
        "model2.add(layers.Activation('sigmoid'))"
      ],
      "execution_count": 0,
      "outputs": []
    },
    {
      "metadata": {
        "id": "S0Xx52E6Dp0Q",
        "colab_type": "text"
      },
      "cell_type": "markdown",
      "source": [
        "# Final Model"
      ]
    },
    {
      "metadata": {
        "id": "q-4akuMRDp0R",
        "colab_type": "code",
        "colab": {}
      },
      "cell_type": "code",
      "source": [
        "model = models.Sequential()\n",
        "model.add(model1)\n",
        "model2.trainable = False\n",
        "model.add(model2)"
      ],
      "execution_count": 0,
      "outputs": []
    },
    {
      "metadata": {
        "id": "KZFYwS45Dp0V",
        "colab_type": "text"
      },
      "cell_type": "markdown",
      "source": [
        "# load data"
      ]
    },
    {
      "metadata": {
        "id": "iK5CsD2TDp0W",
        "colab_type": "code",
        "colab": {
          "base_uri": "https://localhost:8080/",
          "height": 34
        },
        "outputId": "0d7a6209-6326-4efe-8657-d63cb1f01309"
      },
      "cell_type": "code",
      "source": [
        "(trainimg,trainlb),(testimg,testlb) = mnist.load_data()\n",
        "trainimg = (trainimg.astype(numpy.float32) - 127.5)/127.5\n",
        "trainimg = trainimg.reshape(60000,28,28,1)\n",
        "testimg = testimg.reshape(10000,28,28,1)\n",
        "trainimg.shape"
      ],
      "execution_count": 28,
      "outputs": [
        {
          "output_type": "execute_result",
          "data": {
            "text/plain": [
              "(60000, 28, 28, 1)"
            ]
          },
          "metadata": {
            "tags": []
          },
          "execution_count": 28
        }
      ]
    },
    {
      "metadata": {
        "id": "LXJtgT4rDp0Z",
        "colab_type": "text"
      },
      "cell_type": "markdown",
      "source": [
        "# Combining Images"
      ]
    },
    {
      "metadata": {
        "id": "sMdm7VAqDp0c",
        "colab_type": "code",
        "colab": {}
      },
      "cell_type": "code",
      "source": [
        "def combine_images(g_images):\n",
        "    num = g_images.shape[0] # getting the count of images\n",
        "    width = int(numpy.sqrt(num))\n",
        "    height = int(numpy.ceil(float(num)/width))\n",
        "    imgshape = g_images.shape[1:3]\n",
        "    image = numpy.zeros((height*imgshape[0],width*imgshape[1]),dtype = g_images.dtype)\n",
        "    for ind,img in enumerate(g_images):\n",
        "        i = int(ind/width)\n",
        "        j = ind % width\n",
        "        image[i*imgshape[0]:(i+1)*imgshape[0],j*imgshape[1]:(j+1)*imgshape[1]] = img[:,:,0]\n",
        "        return image\n",
        "    \n",
        "    "
      ],
      "execution_count": 0,
      "outputs": []
    },
    {
      "metadata": {
        "id": "YsaZKBzEDp0i",
        "colab_type": "text"
      },
      "cell_type": "markdown",
      "source": [
        "# Compilation and Training"
      ]
    },
    {
      "metadata": {
        "id": "78MjXflLDp0m",
        "colab_type": "code",
        "colab": {}
      },
      "cell_type": "code",
      "source": [
        "model1_optim = SGD(lr = 0.0005,momentum=0.9)\n",
        "model2_optim = SGD(lr = 0.0005,momentum=0.9)\n",
        "model1.compile(loss='binary_crossentropy',optimizer=\"SGD\")\n",
        "model.compile(loss='binary_crossentropy',optimizer=model1_optim)\n",
        "model2.trainable = True\n",
        "model2.compile(loss='binary_crossentropy',optimizer=model2_optim)\n",
        "# training for 100 epochs\n",
        "for i in range(100):\n",
        "    print(\"Epoch is \",i)\n",
        "    batch_size = 128\n",
        "    for j in range(int(trainimg.shape[0]/batch_size)):\n",
        "        noise = numpy.random.uniform(-1,1,size=(batch_size,100))\n",
        "        img_batch = trainimg[j*batch_size:(j+1)*batch_size]\n",
        "        g_images = model1.predict(noise,verbose=0)\n",
        "        if j % 20 ==0:\n",
        "            img = combine_images(g_images)\n",
        "            img = img*127.5 + 127.5\n",
        "            Image.fromarray(img.astype(numpy.uint8)[:28,:28]).save(\"generated_pictures\\\\\"+str(i)+\"_\"+str(j)+\".png\")\n",
        "            xtrain = numpy.concatenate((img_batch,g_images))\n",
        "            ytrain = [1]*batch_size +[0] * batch_size\n",
        "            model2_loss = model2.train_on_batch(xtrain,ytrain)\n",
        "            print(\"batch %d discriminator loss : %f\"%(j,model2_loss))\n",
        "            noise = numpy.random.uniform(-1,1,(batch_size,100))\n",
        "            model2.trainable = False\n",
        "            model1_loss = model.train_on_batch(noise,[1]*batch_size)\n",
        "            model2.trainable = True\n",
        "            print(\"batch %d generator loss : %f\"%(j,model1_loss))"
      ],
      "execution_count": 0,
      "outputs": []
    },
    {
      "metadata": {
        "id": "WmEmYkWhDp0s",
        "colab_type": "code",
        "colab": {}
      },
      "cell_type": "code",
      "source": [
        "model1.save_weights(\"generator\",True)\n",
        "model2.save_weights(\"discriminator\",True)"
      ],
      "execution_count": 0,
      "outputs": []
    },
    {
      "metadata": {
        "id": "_rrPeM7SDp0w",
        "colab_type": "text"
      },
      "cell_type": "markdown",
      "source": [
        "# Generation"
      ]
    },
    {
      "metadata": {
        "scrolled": false,
        "id": "qAcm9QGvDp0y",
        "colab_type": "code",
        "outputId": "68499822-f2e5-4ed0-c357-cb1bdacfc028",
        "colab": {
          "base_uri": "https://localhost:8080/",
          "height": 34
        }
      },
      "cell_type": "code",
      "source": [
        "model1.compile(loss='binary_crossentropy',optimizer=\"SGD\")\n",
        "model1.load_weights('generator')\n",
        "noise = numpy.random.uniform(-1,1,(batch_size,100))\n",
        "g_iamges2 = model1.predict(noise,verbose=1)\n",
        "img = combine_images(g_iamges2)\n",
        "img = img*127.5 + 127.5\n",
        "Image.fromarray(img.astype(numpy.uint8)[:28,:28]).save(\"generated_image.png\")"
      ],
      "execution_count": 44,
      "outputs": [
        {
          "output_type": "stream",
          "text": [
            "128/128 [==============================] - 0s 1ms/step\n"
          ],
          "name": "stdout"
        }
      ]
    },
    {
      "metadata": {
        "id": "vfuW1dZYDp02",
        "colab_type": "code",
        "outputId": "705da473-df2a-444b-baaf-6f52f54a7046",
        "colab": {
          "base_uri": "https://localhost:8080/",
          "height": 34
        }
      },
      "cell_type": "code",
      "source": [
        "img = cv2.imread(\"generated_image.png\")\n",
        "img.shape"
      ],
      "execution_count": 45,
      "outputs": [
        {
          "output_type": "execute_result",
          "data": {
            "text/plain": [
              "(28, 28, 3)"
            ]
          },
          "metadata": {
            "tags": []
          },
          "execution_count": 45
        }
      ]
    },
    {
      "metadata": {
        "id": "gUtwPcR6Dp06",
        "colab_type": "code",
        "outputId": "752c9da3-5514-4420-d113-69cd6024eb2c",
        "colab": {
          "base_uri": "https://localhost:8080/",
          "height": 269
        }
      },
      "cell_type": "code",
      "source": [
        "plt.imshow(img)\n",
        "plt.show()"
      ],
      "execution_count": 46,
      "outputs": [
        {
          "output_type": "display_data",
          "data": {
            "image/png": "[encoded data removed]",
            "text/plain": [
              "<Figure size 432x288 with 1 Axes>"
            ]
          },
          "metadata": {
            "tags": []
          }
        }
      ]
    },
    {
      "metadata": {
        "id": "lv0gHTfwDp0_",
        "colab_type": "code",
        "outputId": "3d699f43-7977-467d-ea8e-b389da4949fd",
        "colab": {
          "base_uri": "https://localhost:8080/",
          "height": 51
        }
      },
      "cell_type": "code",
      "source": [
        "# Generating fine tuned images\n",
        "model1.compile(loss='binary_crossentropy',optimizer=\"SGD\")\n",
        "model1.load_weights('generator')\n",
        "model2.compile(loss='binary_crossentropy',optimizer=\"SGD\")\n",
        "model2.load_weights('discriminator')\n",
        "noise = numpy.random.uniform(-1,1,(batch_size*20,100))\n",
        "g_iamges2 = model1.predict(noise,verbose=1)\n",
        "model2_pred = model2.predict(g_iamges2,verbose=1)\n",
        "ind = numpy.arange(0,batch_size*20)\n",
        "ind.resize((batch_size*20,1))\n",
        "pre_with_ind = list(numpy.append(model2_pred,ind,axis=1))\n",
        "pre_with_ind.sort(key = lambda x:x[0],reverse=True)\n",
        "fine_img = numpy.zeros((batch_size,)+g_iamges2.shape[1:3],dtype='float32')\n",
        "fine_img = fine_img[:,:,:,None]\n",
        "for i in range(batch_size):\n",
        "    idx = int(pre_with_ind[i][1])\n",
        "    fine_img[:,:,:,0] = g_iamges2[idx,:,:,0]\n",
        "img = combine_images(fine_img)\n",
        "img = img*127.5 + 127.5\n",
        "Image.fromarray(img.astype(numpy.uint8)[:28,:28]).save(\"generated_image.png\")\n"
      ],
      "execution_count": 47,
      "outputs": [
        {
          "output_type": "stream",
          "text": [
            "2560/2560 [==============================] - 0s 146us/step\n",
            "2560/2560 [==============================] - 0s 117us/step\n"
          ],
          "name": "stdout"
        }
      ]
    },
    {
      "metadata": {
        "id": "ODD-IOBgDp1H",
        "colab_type": "code",
        "outputId": "611585e0-6397-4292-a2bc-e8c0a9c338d8",
        "colab": {
          "base_uri": "https://localhost:8080/",
          "height": 34
        }
      },
      "cell_type": "code",
      "source": [
        "img = cv2.imread(\"generated_image.png\")\n",
        "img.shape"
      ],
      "execution_count": 48,
      "outputs": [
        {
          "output_type": "execute_result",
          "data": {
            "text/plain": [
              "(28, 28, 3)"
            ]
          },
          "metadata": {
            "tags": []
          },
          "execution_count": 48
        }
      ]
    },
    {
      "metadata": {
        "id": "C0NmNujvDp1M",
        "colab_type": "code",
        "outputId": "88a47d66-a09e-4932-a5a5-1db2f61807f1",
        "colab": {
          "base_uri": "https://localhost:8080/",
          "height": 269
        }
      },
      "cell_type": "code",
      "source": [
        "plt.imshow(img)\n",
        "plt.show()"
      ],
      "execution_count": 49,
      "outputs": [
        {
          "output_type": "display_data",
          "data": {
            "image/png": "[encoded data removed]",
            "text/plain": [
              "<Figure size 432x288 with 1 Axes>"
            ]
          },
          "metadata": {
            "tags": []
          }
        }
      ]
    },
    {
      "metadata": {
        "id": "I5C8YIOhDp1T",
        "colab_type": "code",
        "colab": {}
      },
      "cell_type": "code",
      "source": [
        ""
      ],
      "execution_count": 0,
      "outputs": []
    }
  ]
}