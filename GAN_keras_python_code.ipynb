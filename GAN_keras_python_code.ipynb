{
 "cells": [
  {
   "cell_type": "code",
   "execution_count": null,
   "metadata": {},
   "outputs": [],
   "source": [
    "from keras import models\n",
    "from keras import layers\n",
    "from keras.optimizers import SGD\n",
    "from keras.datasets import mnist\n",
    "import numpy\n",
    "from PIL import Image"
   ]
  },
  {
   "cell_type": "markdown",
   "metadata": {},
   "source": [
    "# Generator Model"
   ]
  },
  {
   "cell_type": "code",
   "execution_count": null,
   "metadata": {},
   "outputs": [],
   "source": [
    "model1 = models.Sequential()\n",
    "model1.add(layers.Dense(input_dim=100,output_dim=1024,activation=\"tanh\"))\n",
    "model1.add(layers.Dense(128*7*7,activation=\"tanh\"))\n",
    "model1.add(layers.BatchNormalization())\n",
    "model1.add(layers.Activation(\"tanh\"))\n",
    "model1.add(layers.Reshape((7,7,128),input_shape=(128*7*7,)))\n",
    "model1.add(layers.UpSampling2D(size=(2,2)))\n",
    "model1.add(layers.Conv2D(64,(5,5),padding='same',activation='tanh'))\n",
    "model1.add(layers.UpSampling2D(size=(2,2)))\n",
    "model1.add(layers.Conv2D(1,(5,5),padding='same',activation='tanh'))"
   ]
  },
  {
   "cell_type": "code",
   "execution_count": null,
   "metadata": {},
   "outputs": [],
   "source": [
    "help(\"keras.layers.Conv2D\")"
   ]
  },
  {
   "cell_type": "markdown",
   "metadata": {},
   "source": [
    "# Dsicriminator"
   ]
  },
  {
   "cell_type": "code",
   "execution_count": null,
   "metadata": {},
   "outputs": [],
   "source": [
    "model2 = models.Sequential()\n",
    "model2.add(layers.Conv2D(64,(5,5),padding='same',input_shape=(28,28,1),activation='tanh'))\n",
    "model2.add(layers.MaxPooling2D(pool_size=(2,2)))\n",
    "model2.add(layers.Conv2D(128,(5,5),activation='tanh'))\n",
    "model2.add(layers.MaxPooling2D(pool_size=(2,2)))\n",
    "model2.add(layers.Flatten())\n",
    "model2.add(layers.Dense(1024,activation='tanh'))\n",
    "model2.add(layers.Dense(1,activation='sigmoid'))"
   ]
  },
  {
   "cell_type": "markdown",
   "metadata": {},
   "source": [
    "# Final Model"
   ]
  },
  {
   "cell_type": "code",
   "execution_count": null,
   "metadata": {},
   "outputs": [],
   "source": [
    "model = models.Sequential()\n",
    "model.add(model1)\n",
    "model2.trainable = False\n",
    "model.add(model2)"
   ]
  },
  {
   "cell_type": "markdown",
   "metadata": {},
   "source": [
    "# load data"
   ]
  },
  {
   "cell_type": "code",
   "execution_count": null,
   "metadata": {},
   "outputs": [],
   "source": [
    "(trainimg,trainlb),(testimg,testlb) = mnist.load_data()\n",
    "trainimg = trainimg/255\n",
    "testimg = testimg/255\n",
    "trainimg = trainimg.reshape(60000,28,28,1)\n",
    "testimg = testimg.reshape(10000,28,28,1)"
   ]
  },
  {
   "cell_type": "markdown",
   "metadata": {},
   "source": [
    "# Combining Images"
   ]
  },
  {
   "cell_type": "code",
   "execution_count": null,
   "metadata": {},
   "outputs": [],
   "source": [
    "def combine_images(g_images):\n",
    "    num = g_images.shape[0] # getting the count of images\n",
    "    width = int(numpy.sqrt(num))\n",
    "    height = int(numpy.ceil(float(num)/width))\n",
    "    imgshape = g_images[0].shape\n",
    "    image = numpy.zeros((height*imgshape[0],width*imgshape[1]),dtype = g_images.dtype)\n",
    "    for ind,img in enumerate(g_images):\n",
    "        i = int(ind/width)\n",
    "        j = ind % width\n",
    "        image[i*imgshape[0]:(i+1)*imgshape[0],i*imgshape[1]:(j+1)*imgshape[1]] = img[:,:,0]\n",
    "        return image\n",
    "    \n",
    "    "
   ]
  },
  {
   "cell_type": "markdown",
   "metadata": {},
   "source": [
    "# Compilation"
   ]
  },
  {
   "cell_type": "code",
   "execution_count": null,
   "metadata": {},
   "outputs": [],
   "source": [
    "model1_optim = SGD(lr = 0.0005,momentum=0.9,nesterov=True)\n",
    "model2_optim = SGD(lr = 0.0005,momentum=0.9,nesterov=True)\n",
    "model1.compile(loss='binary_crossentropy',optimizer=\"SGD\")\n",
    "model.compile(loss='binary_crossentropy',optimizer=model1_optim)\n",
    "model2.trainable = True\n",
    "model2.compile(loss='binary_crossentropy',optimizer=model2_optim)\n",
    "# training for 100 epochs\n",
    "for i in range(100):\n",
    "    print(\"Epoch is \",i)\n",
    "    batch_size = 128\n",
    "    for j in range(int(trainimg.shape[0]/batch_size)):\n",
    "        noise = numpy.random.uniform(-1,1,size=(batch_size,100))\n",
    "        img_batch = trainimg[j*batch_size:(j+1)*batch_size]\n",
    "        g_images = model1.predict(noise,verbose=0)\n",
    "        if j % 20 ==0:\n",
    "            img = combine_images(g_images)\n",
    "            img = img*127.5 + 127.5\n",
    "            Image.fromarray(img.astype(numpy.uint8)).save(str(i)+\"_\"+str(j)+\".png\")\n",
    "            xtrain = numpy.concatenate((img_batch,g_images))\n",
    "            ytrain = [1]*batch_size +[0] * batch_size\n",
    "            model2_loss = model2.train_on_batch(xtrain,ytrain)\n",
    "            print(\"batch %d discriminator loss : %f\"%(j,model2_loss))\n",
    "            noise = numpy.random.uniform(-1,1,(batch_size,100))\n",
    "            model2.trainable = False\n",
    "            model1_loss = model.train_on_batch(noise,[1]*batch_size)\n",
    "            model2.trainable = True\n",
    "            print(\"batch %d generator loss : %f\"%(j,model1_loss))\n",
    "            if j%10 ==9:\n",
    "                model1.save_weights(\"generator\",True)\n",
    "                model2.save_weights(\"discriminator\",True)"
   ]
  },
  {
   "cell_type": "markdown",
   "metadata": {},
   "source": [
    "# Generation"
   ]
  },
  {
   "cell_type": "code",
   "execution_count": null,
   "metadata": {
    "scrolled": true
   },
   "outputs": [],
   "source": [
    "model1.compile(loss='binary_crossentropy',optimizer=\"SGD\")\n",
    "model1.load_weights('generator')\n",
    "noise = numpy.random.uniform(-1,1,(batch_size,100))\n",
    "g_iamges2 = model1.predict(noise,verbose=1)\n",
    "img = combine_images(g_iamges2)\n",
    "img = img*127.5 + 127.5\n",
    "Image.fromarray(img.astype(np.uint8)).save(\"generated_image.png\")\n",
    "Image(img)"
   ]
  },
  {
   "cell_type": "code",
   "execution_count": null,
   "metadata": {},
   "outputs": [],
   "source": []
  }
 ],
 "metadata": {
  "kernelspec": {
   "display_name": "Python 3",
   "language": "python",
   "name": "python3"
  },
  "language_info": {
   "codemirror_mode": {
    "name": "ipython",
    "version": 3
   },
   "file_extension": ".py",
   "mimetype": "text/x-python",
   "name": "python",
   "nbconvert_exporter": "python",
   "pygments_lexer": "ipython3",
   "version": "3.6.7"
  }
 },
 "nbformat": 4,
 "nbformat_minor": 2
}
